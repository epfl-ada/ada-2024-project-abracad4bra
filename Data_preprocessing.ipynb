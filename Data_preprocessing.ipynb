{
 "cells": [
  {
   "cell_type": "code",
   "execution_count": 11,
   "metadata": {},
   "outputs": [],
   "source": [
    "import pandas as pd \n",
    "import numpy as np \n",
    "import ast\n",
    "import re"
   ]
  },
  {
   "cell_type": "markdown",
   "metadata": {},
   "source": [
    "# Clean CMU dataset and filter horror movies"
   ]
  },
  {
   "cell_type": "code",
   "execution_count": 8,
   "metadata": {},
   "outputs": [],
   "source": [
    "CMU_headers = ['Weekipedia_ID', 'Freebase_ID', 'Name', 'Release_date', 'Revenue', 'Runtime', 'Language', 'Countries', 'Genres']\n",
    "CMU = pd.read_csv('MovieSummaries/movie.metadata.tsv', sep='\\t', names=CMU_headers)"
   ]
  },
  {
   "cell_type": "code",
   "execution_count": 13,
   "metadata": {},
   "outputs": [],
   "source": [
    "CMU['Release_year'] = CMU['Release_date'].astype(str).str.extract(r'(\\d{4})')\n",
    "CMU['Release_year'] = pd.to_numeric(CMU['Release_year'])"
   ]
  },
  {
   "cell_type": "code",
   "execution_count": 14,
   "metadata": {},
   "outputs": [],
   "source": [
    "def extract_words(column):\n",
    "    return column.apply(ast.literal_eval).apply(lambda x: list(x.values()))\n",
    "\n",
    "cleaning_columns = ['Language', 'Genres', 'Countries']\n",
    "\n",
    "for column_name in cleaning_columns:\n",
    "    CMU[column_name+\"_clean\"] = extract_words(CMU[column_name])\n",
    "\n",
    "def clean_language(language_string):\n",
    "    return re.sub(\" Language\", \"\", language_string)\n",
    "\n",
    "CMU.Language_clean = CMU.Language_clean.apply(lambda lang_list: list(map(clean_language, lang_list)))\n",
    "\n",
    "isHorrorMovie = CMU['Genres_clean'].apply(lambda l: 'Horror' in l)\n",
    "horror_df = CMU[isHorrorMovie]"
   ]
  },
  {
   "cell_type": "code",
   "execution_count": 51,
   "metadata": {},
   "outputs": [],
   "source": [
    "CMU = CMU.drop(['Release_date', 'Language', 'Countries', 'Genres'], axis=1)"
   ]
  },
  {
   "cell_type": "code",
   "execution_count": 52,
   "metadata": {},
   "outputs": [
    {
     "data": {
      "text/plain": [
       "(5280, 9)"
      ]
     },
     "execution_count": 52,
     "metadata": {},
     "output_type": "execute_result"
    }
   ],
   "source": [
    "CMU_horror_df = CMU[CMU['Genres_clean'].apply(lambda l: 'Horror' in l)]\n",
    "\n",
    "CMU_horror_df.shape"
   ]
  },
  {
   "cell_type": "markdown",
   "metadata": {},
   "source": [
    "# Clean additional horror movies dataset"
   ]
  },
  {
   "cell_type": "code",
   "execution_count": 34,
   "metadata": {},
   "outputs": [],
   "source": [
    "horror_df = pd.read_csv('horror_movies.csv')"
   ]
  },
  {
   "cell_type": "code",
   "execution_count": 53,
   "metadata": {},
   "outputs": [
    {
     "data": {
      "text/plain": [
       "(32540, 14)"
      ]
     },
     "execution_count": 53,
     "metadata": {},
     "output_type": "execute_result"
    }
   ],
   "source": [
    "horror_df['Release_year'] = horror_df['release_date'].astype(str).str.extract(r'(\\d{4})')\n",
    "horror_df['Release_year'] = pd.to_numeric(horror_df['Release_year'])\n",
    "horror_df = horror_df.drop(['original_title', 'poster_path', 'status', 'adult', 'backdrop_path', 'collection', 'release_date'], axis=1)\n",
    "\n",
    "horror_df.shape"
   ]
  },
  {
   "cell_type": "code",
   "execution_count": 62,
   "metadata": {},
   "outputs": [],
   "source": [
    "horror_df['genre_names'] = horror_df['genre_names'].str.split(',')"
   ]
  },
  {
   "cell_type": "markdown",
   "metadata": {},
   "source": [
    "# Merging the two datasets "
   ]
  },
  {
   "cell_type": "code",
   "execution_count": 67,
   "metadata": {},
   "outputs": [],
   "source": [
    "Horror_movies = pd.merge(CMU_horror_df, horror_df, left_on='Name',right_on='title', how='outer')"
   ]
  },
  {
   "cell_type": "code",
   "execution_count": 68,
   "metadata": {},
   "outputs": [],
   "source": [
    "Horror_movies['Name'] = Horror_movies['Name'].combine_first(Horror_movies['title'])\n",
    "Horror_movies['Release_year'] = Horror_movies['Release_year_x'].combine_first(Horror_movies['Release_year_y'])\n",
    "Horror_movies['Runtime'] = Horror_movies['Runtime'].combine_first(Horror_movies['runtime'])\n",
    "Horror_movies['Revenue'] = Horror_movies['Revenue'].combine_first(Horror_movies['revenue'])\n",
    "Horror_movies['Genres'] = Horror_movies['Genres_clean'].combine_first(Horror_movies['genre_names'])\n",
    "\n",
    "Horror_movies = Horror_movies.drop(['title', 'Release_year_x', 'Release_year_y', 'runtime', 'revenue', 'Genres_clean', 'genre_names'], axis=1)"
   ]
  },
  {
   "cell_type": "code",
   "execution_count": 71,
   "metadata": {},
   "outputs": [],
   "source": [
    "Horror_movies['ID'] = Horror_movies.index + 1 \n",
    "Horror_movies = Horror_movies.drop('id', axis=1)"
   ]
  },
  {
   "cell_type": "markdown",
   "metadata": {},
   "source": [
    "# Creating a text file with all summaries"
   ]
  },
  {
   "cell_type": "code",
   "execution_count": 74,
   "metadata": {},
   "outputs": [],
   "source": [
    "CMU_plot_summaries = pd.read_csv('HorrorMovieSummaries.txt', sep='\\t', header=None, names=['Weekipedia_ID', 'summary'])"
   ]
  },
  {
   "cell_type": "code",
   "execution_count": 75,
   "metadata": {},
   "outputs": [],
   "source": [
    "merged_df = Horror_movies.copy()"
   ]
  },
  {
   "cell_type": "code",
   "execution_count": 76,
   "metadata": {},
   "outputs": [],
   "source": [
    "# Ensure that both 'wiki_id' columns are of the same type\n",
    "CMU_plot_summaries['Weekipedia_ID'] = CMU_plot_summaries['Weekipedia_ID'].astype(str)\n",
    "merged_df['Weekipedia_ID'] = merged_df['Weekipedia_ID'].astype(str)\n",
    "\n",
    "# Merge on 'wiki_id' to get the summaries in merged_df\n",
    "merged_df = pd.merge(merged_df, CMU_plot_summaries, on='Weekipedia_ID', how='left')"
   ]
  },
  {
   "cell_type": "code",
   "execution_count": 79,
   "metadata": {},
   "outputs": [
    {
     "data": {
      "text/html": [
       "<div>\n",
       "<style scoped>\n",
       "    .dataframe tbody tr th:only-of-type {\n",
       "        vertical-align: middle;\n",
       "    }\n",
       "\n",
       "    .dataframe tbody tr th {\n",
       "        vertical-align: top;\n",
       "    }\n",
       "\n",
       "    .dataframe thead th {\n",
       "        text-align: right;\n",
       "    }\n",
       "</style>\n",
       "<table border=\"1\" class=\"dataframe\">\n",
       "  <thead>\n",
       "    <tr style=\"text-align: right;\">\n",
       "      <th></th>\n",
       "      <th>Weekipedia_ID</th>\n",
       "      <th>Freebase_ID</th>\n",
       "      <th>Name</th>\n",
       "      <th>Revenue</th>\n",
       "      <th>Runtime</th>\n",
       "      <th>Language_clean</th>\n",
       "      <th>Countries_clean</th>\n",
       "      <th>original_language</th>\n",
       "      <th>overview</th>\n",
       "      <th>tagline</th>\n",
       "      <th>popularity</th>\n",
       "      <th>vote_count</th>\n",
       "      <th>vote_average</th>\n",
       "      <th>budget</th>\n",
       "      <th>collection_name</th>\n",
       "      <th>Release_year</th>\n",
       "      <th>Genres</th>\n",
       "      <th>ID</th>\n",
       "      <th>summary</th>\n",
       "      <th>Summary</th>\n",
       "    </tr>\n",
       "  </thead>\n",
       "  <tbody>\n",
       "    <tr>\n",
       "      <th>0</th>\n",
       "      <td>nan</td>\n",
       "      <td>NaN</td>\n",
       "      <td>#1915House</td>\n",
       "      <td>0.0</td>\n",
       "      <td>55.0</td>\n",
       "      <td>NaN</td>\n",
       "      <td>NaN</td>\n",
       "      <td>en</td>\n",
       "      <td>A century of secrets are hidden behind the fre...</td>\n",
       "      <td>NaN</td>\n",
       "      <td>0.600</td>\n",
       "      <td>0.0</td>\n",
       "      <td>0.0</td>\n",
       "      <td>700.0</td>\n",
       "      <td>NaN</td>\n",
       "      <td>2018.0</td>\n",
       "      <td>[Horror]</td>\n",
       "      <td>1</td>\n",
       "      <td>NaN</td>\n",
       "      <td>A century of secrets are hidden behind the fre...</td>\n",
       "    </tr>\n",
       "    <tr>\n",
       "      <th>1</th>\n",
       "      <td>nan</td>\n",
       "      <td>NaN</td>\n",
       "      <td>#Alive</td>\n",
       "      <td>13416285.0</td>\n",
       "      <td>98.0</td>\n",
       "      <td>NaN</td>\n",
       "      <td>NaN</td>\n",
       "      <td>ko</td>\n",
       "      <td>As a grisly virus rampages a city, a lone man ...</td>\n",
       "      <td>You must survive.</td>\n",
       "      <td>50.907</td>\n",
       "      <td>1365.0</td>\n",
       "      <td>7.3</td>\n",
       "      <td>6300000.0</td>\n",
       "      <td>NaN</td>\n",
       "      <td>2020.0</td>\n",
       "      <td>[Action,  Horror,  Thriller]</td>\n",
       "      <td>2</td>\n",
       "      <td>NaN</td>\n",
       "      <td>As a grisly virus rampages a city, a lone man ...</td>\n",
       "    </tr>\n",
       "    <tr>\n",
       "      <th>2</th>\n",
       "      <td>nan</td>\n",
       "      <td>NaN</td>\n",
       "      <td>#Blue_Whale</td>\n",
       "      <td>0.0</td>\n",
       "      <td>93.0</td>\n",
       "      <td>NaN</td>\n",
       "      <td>NaN</td>\n",
       "      <td>ru</td>\n",
       "      <td>The story of a girl who, in an attempt to unde...</td>\n",
       "      <td>NaN</td>\n",
       "      <td>0.840</td>\n",
       "      <td>0.0</td>\n",
       "      <td>0.0</td>\n",
       "      <td>0.0</td>\n",
       "      <td>NaN</td>\n",
       "      <td>2021.0</td>\n",
       "      <td>[Drama,  Horror,  Thriller]</td>\n",
       "      <td>3</td>\n",
       "      <td>NaN</td>\n",
       "      <td>The story of a girl who, in an attempt to unde...</td>\n",
       "    </tr>\n",
       "    <tr>\n",
       "      <th>3</th>\n",
       "      <td>nan</td>\n",
       "      <td>NaN</td>\n",
       "      <td>#Captured</td>\n",
       "      <td>0.0</td>\n",
       "      <td>81.0</td>\n",
       "      <td>NaN</td>\n",
       "      <td>NaN</td>\n",
       "      <td>en</td>\n",
       "      <td>A zealous vigilante looking to clean the Inter...</td>\n",
       "      <td>Cleansing the internet of all sin</td>\n",
       "      <td>4.197</td>\n",
       "      <td>13.0</td>\n",
       "      <td>3.2</td>\n",
       "      <td>0.0</td>\n",
       "      <td>NaN</td>\n",
       "      <td>2017.0</td>\n",
       "      <td>[Horror,  Thriller]</td>\n",
       "      <td>4</td>\n",
       "      <td>NaN</td>\n",
       "      <td>A zealous vigilante looking to clean the Inter...</td>\n",
       "    </tr>\n",
       "    <tr>\n",
       "      <th>4</th>\n",
       "      <td>nan</td>\n",
       "      <td>NaN</td>\n",
       "      <td>#EATPRETTY</td>\n",
       "      <td>0.0</td>\n",
       "      <td>4.0</td>\n",
       "      <td>NaN</td>\n",
       "      <td>NaN</td>\n",
       "      <td>en</td>\n",
       "      <td>Anna is a successful product photographer, str...</td>\n",
       "      <td>If at first you don't succeed...</td>\n",
       "      <td>0.600</td>\n",
       "      <td>1.0</td>\n",
       "      <td>2.0</td>\n",
       "      <td>0.0</td>\n",
       "      <td>NaN</td>\n",
       "      <td>2018.0</td>\n",
       "      <td>[Horror,  Mystery,  Romance]</td>\n",
       "      <td>5</td>\n",
       "      <td>NaN</td>\n",
       "      <td>Anna is a successful product photographer, str...</td>\n",
       "    </tr>\n",
       "  </tbody>\n",
       "</table>\n",
       "</div>"
      ],
      "text/plain": [
       "  Weekipedia_ID Freebase_ID         Name     Revenue  Runtime Language_clean  \\\n",
       "0           nan         NaN   #1915House         0.0     55.0            NaN   \n",
       "1           nan         NaN       #Alive  13416285.0     98.0            NaN   \n",
       "2           nan         NaN  #Blue_Whale         0.0     93.0            NaN   \n",
       "3           nan         NaN    #Captured         0.0     81.0            NaN   \n",
       "4           nan         NaN   #EATPRETTY         0.0      4.0            NaN   \n",
       "\n",
       "  Countries_clean original_language  \\\n",
       "0             NaN                en   \n",
       "1             NaN                ko   \n",
       "2             NaN                ru   \n",
       "3             NaN                en   \n",
       "4             NaN                en   \n",
       "\n",
       "                                            overview  \\\n",
       "0  A century of secrets are hidden behind the fre...   \n",
       "1  As a grisly virus rampages a city, a lone man ...   \n",
       "2  The story of a girl who, in an attempt to unde...   \n",
       "3  A zealous vigilante looking to clean the Inter...   \n",
       "4  Anna is a successful product photographer, str...   \n",
       "\n",
       "                             tagline  popularity  vote_count  vote_average  \\\n",
       "0                                NaN       0.600         0.0           0.0   \n",
       "1                  You must survive.      50.907      1365.0           7.3   \n",
       "2                                NaN       0.840         0.0           0.0   \n",
       "3  Cleansing the internet of all sin       4.197        13.0           3.2   \n",
       "4   If at first you don't succeed...       0.600         1.0           2.0   \n",
       "\n",
       "      budget collection_name  Release_year                        Genres  ID  \\\n",
       "0      700.0             NaN        2018.0                      [Horror]   1   \n",
       "1  6300000.0             NaN        2020.0  [Action,  Horror,  Thriller]   2   \n",
       "2        0.0             NaN        2021.0   [Drama,  Horror,  Thriller]   3   \n",
       "3        0.0             NaN        2017.0           [Horror,  Thriller]   4   \n",
       "4        0.0             NaN        2018.0  [Horror,  Mystery,  Romance]   5   \n",
       "\n",
       "  summary                                            Summary  \n",
       "0     NaN  A century of secrets are hidden behind the fre...  \n",
       "1     NaN  As a grisly virus rampages a city, a lone man ...  \n",
       "2     NaN  The story of a girl who, in an attempt to unde...  \n",
       "3     NaN  A zealous vigilante looking to clean the Inter...  \n",
       "4     NaN  Anna is a successful product photographer, str...  "
      ]
     },
     "execution_count": 79,
     "metadata": {},
     "output_type": "execute_result"
    }
   ],
   "source": [
    "merged_df['Summary'] = merged_df['overview'].combine_first(merged_df['summary'])"
   ]
  },
  {
   "cell_type": "code",
   "execution_count": 80,
   "metadata": {},
   "outputs": [],
   "source": [
    "# Define the output file path\n",
    "output_file = 'Summaries.txt'\n",
    "\n",
    "# Write summaries to the output file\n",
    "with open(output_file, 'w') as f:\n",
    "    for _, row in merged_df.iterrows():\n",
    "        # Write each line in the format: new ID followed by the summary\n",
    "        f.write(f\"{row['ID']}\\t{row['Summary']}\\n\")"
   ]
  },
  {
   "cell_type": "code",
   "execution_count": 81,
   "metadata": {},
   "outputs": [],
   "source": [
    "# Define the output file path\n",
    "output_file = 'Taglines.txt'\n",
    "\n",
    "# Write taglines to the output file, checking for non-NaN values\n",
    "with open(output_file, 'w') as f:\n",
    "    for _, row in merged_df.iterrows():\n",
    "        # Check if 'tagline' is not NaN\n",
    "        if pd.notna(row['tagline']):\n",
    "            # Write each line in the format: new ID followed by the tagline\n",
    "            f.write(f\"{row['ID']}\\t{row['tagline']}\\n\")"
   ]
  },
  {
   "cell_type": "code",
   "execution_count": 83,
   "metadata": {},
   "outputs": [],
   "source": [
    "Horror_movies = Horror_movies.drop(['overview', 'tagline'], axis=1)"
   ]
  },
  {
   "cell_type": "markdown",
   "metadata": {},
   "source": [
    "# Get the cleaned data"
   ]
  },
  {
   "cell_type": "code",
   "execution_count": 84,
   "metadata": {},
   "outputs": [],
   "source": [
    "Horror_movies.to_csv('Horror_Movies_Clean.csv')"
   ]
  }
 ],
 "metadata": {
  "kernelspec": {
   "display_name": "ada",
   "language": "python",
   "name": "python3"
  },
  "language_info": {
   "codemirror_mode": {
    "name": "ipython",
    "version": 3
   },
   "file_extension": ".py",
   "mimetype": "text/x-python",
   "name": "python",
   "nbconvert_exporter": "python",
   "pygments_lexer": "ipython3",
   "version": "3.11.9"
  }
 },
 "nbformat": 4,
 "nbformat_minor": 2
}
