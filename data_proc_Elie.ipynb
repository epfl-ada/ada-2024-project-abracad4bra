{
 "cells": [
  {
   "cell_type": "code",
   "execution_count": 1,
   "metadata": {},
   "outputs": [],
   "source": [
    "import pandas as pd\n",
    "%matplotlib inline\n",
    "import numpy as np\n",
    "import matplotlib.pyplot as plt\n",
    "%matplotlib inline\n",
    "import seaborn as sns\n",
    "import math\n",
    "import re\n",
    "\n",
    "import fasttext \n",
    "import pandas as pd \n",
    "import numpy as np\n",
    "from sklearn.feature_extraction.text import CountVectorizer, TfidfVectorizer\n",
    "from sklearn.metrics.pairwise import linear_kernel\n",
    "import string\n",
    "import math\n",
    "from collections import Counter\n",
    "from sklearn.metrics.pairwise import cosine_similarity"
   ]
  },
  {
   "cell_type": "markdown",
   "metadata": {},
   "source": [
    "Let's start by exploring the succes of the movies "
   ]
  },
  {
   "cell_type": "code",
   "execution_count": 2,
   "metadata": {},
   "outputs": [],
   "source": [
    "DATA_FOLDER = '/Users/elieroth/Desktop/MA3/ADA/Project/MovieSummaries/'\n",
    "\n",
    "CHARACTER_DATASET = DATA_FOLDER+\"character.metadata.tsv\"\n",
    "MOVIE_DATASET = DATA_FOLDER+\"movie.metadata.tsv\"\n",
    "NAME_DATASET = DATA_FOLDER+\"name.clusters.txt\"\n",
    "SUMMARIES_DATASET = DATA_FOLDER+\"plot_summaries.txt\"\n",
    "TROPES_DATASET = DATA_FOLDER+\"tvtropes.clusters.txt\"\n",
    "\n",
    "\n",
    "df_charact=pd.read_csv(CHARACTER_DATASET, sep='\\t', names=['Wikipedia movie ID', 'Freebase movie ID', 'Movie release date', 'Character Name', 'Actor DOB', 'Actor gender', 'Actor height', 'Actor ethnicity', 'Actor Name', 'Actor age at movie release', 'Freebase character map1', 'Freebase character map2', 'Freebase character map3'])\n",
    "df_movie = pd.read_csv(MOVIE_DATASET, sep='\\t', names=['Wikipedia movie ID', 'Freebase movie ID', 'Movie name', 'Movie release date', 'Movie box office revenue', 'Movie runtime', 'Movie languages', 'Movie countries', 'Movie genre'])\n",
    "df_name = pd.read_csv(NAME_DATASET, sep='\\t', names=['Character Name', 'Freebase character map'])\n",
    "df_tropes=pd.read_csv(TROPES_DATASET,sep='\\t', header=None, names=['Tropes', 'Characters'])\n",
    "df_summaries=pd.read_csv(SUMMARIES_DATASET,sep='\\t', names=['Wikipedia movie ID', 'Summary'])\n",
    "trigger_movies = pd.read_csv('EVERY_trigger_movies.csv')\n",
    "df_movie2 = pd.read_csv('horror_movies.csv')"
   ]
  },
  {
   "cell_type": "markdown",
   "metadata": {},
   "source": [
    "## Filtering the data to only use the horror genre\n"
   ]
  },
  {
   "cell_type": "code",
   "execution_count": 3,
   "metadata": {},
   "outputs": [
    {
     "name": "stdout",
     "output_type": "stream",
     "text": [
      "The original size of the CMU dataframe is 81741 and the horror one is 5313\n",
      "The size of the horror dataframe is 6.50% of the CMU dataset.\n"
     ]
    }
   ],
   "source": [
    "# filtering the df to obtain a horro df\n",
    "df_movie_horror = df_movie.copy(deep=True)\n",
    "df_movie_horror['genre_names'] = df_movie_horror['Movie genre'].apply(\n",
    "    lambda genres: [genre.strip() for genre in re.split(r\",\\s*\", genres) if re.search(r'horror', genre, re.IGNORECASE)]\n",
    ")\n",
    "df_movie_horror = df_movie_horror[df_movie_horror['genre_names'].astype(bool)] # removing the non horror movie\n",
    "\n",
    "# Length of the data frames \n",
    "print(f'The original size of the CMU dataframe is {len(df_movie)} and the horror one is {len(df_movie_horror)}')\n",
    "print(f'The size of the horror dataframe is {100*len(df_movie_horror)/len(df_movie):.2f}% of the CMU dataset.')"
   ]
  },
  {
   "cell_type": "code",
   "execution_count": 4,
   "metadata": {},
   "outputs": [
    {
     "name": "stdout",
     "output_type": "stream",
     "text": [
      "The size of our filtered dataframe is 29408\n"
     ]
    }
   ],
   "source": [
    "# merging summary dataset and CMU movie dataset\n",
    "df_movie_horror = pd.merge(df_movie_horror, df_summaries, on=['Wikipedia movie ID'], how='inner')\n",
    "\n",
    "# cleaning Nan before merging\n",
    "df_movie_horror=df_movie_horror.dropna(subset=\"Movie release date\").dropna(subset=\"Summary\")\n",
    "df_movie2.rename(columns={'title': 'Movie name', 'overview':'Summary', 'release_date':'Movie release date'}, inplace=True)\n",
    "df_movie2=df_movie2.dropna(subset=\"Movie release date\").dropna(subset=\"Summary\")\n",
    "\n",
    "\n",
    "# concatenate two df\n",
    "df_horror = pd.concat([df_movie_horror, df_movie2], ignore_index=True)\n",
    "df_horror = df_horror.groupby('Movie name', as_index=False).first() # merging same movie name and keeping the non null value\n",
    "\n",
    "# transform the release date of the movie into only years\n",
    "df_horror[\"Movie release year\"] = df_horror[\"Movie release date\"].str[:4]\n",
    "print(f'The size of our filtered dataframe is {len(df_horror)}')"
   ]
  },
  {
   "cell_type": "code",
   "execution_count": 5,
   "metadata": {},
   "outputs": [],
   "source": [
    "# cleaning the entire dataset for further analysis \n",
    "\n",
    "df_movie = pd.merge(df_movie, df_summaries, on=['Wikipedia movie ID'], how='inner')\n",
    "df_movie=df_movie.dropna(subset=\"Movie release date\").dropna(subset=\"Summary\")\n",
    "df_movie[\"Movie release year\"] = df_movie[\"Movie release date\"].str[:4]\n",
    "df_movie['Movie release year'] = pd.to_datetime(df_movie['Movie release year'], errors='coerce', format='%Y')"
   ]
  }
 ],
 "metadata": {
  "kernelspec": {
   "display_name": "ada",
   "language": "python",
   "name": "python3"
  },
  "language_info": {
   "codemirror_mode": {
    "name": "ipython",
    "version": 3
   },
   "file_extension": ".py",
   "mimetype": "text/x-python",
   "name": "python",
   "nbconvert_exporter": "python",
   "pygments_lexer": "ipython3",
   "version": "3.11.9"
  }
 },
 "nbformat": 4,
 "nbformat_minor": 4
}
