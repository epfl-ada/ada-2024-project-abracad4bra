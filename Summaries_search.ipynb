{
 "cells": [
  {
   "cell_type": "code",
   "execution_count": 3,
   "metadata": {},
   "outputs": [],
   "source": [
    "import fasttext \n",
    "import pandas as pd \n",
    "import numpy as np\n",
    "from sklearn.feature_extraction.text import CountVectorizer, TfidfVectorizer\n",
    "from sklearn.metrics.pairwise import linear_kernel\n",
    "import string\n",
    "import math\n",
    "from collections import Counter\n",
    "from sklearn.metrics.pairwise import cosine_similarity"
   ]
  },
  {
   "cell_type": "code",
   "execution_count": 4,
   "metadata": {},
   "outputs": [],
   "source": [
    "HorrorMovieSummaries = '/Users/valentine/Desktop/EPFL/Master/Ma1/ADA/HorrorMovieSummaries.txt'"
   ]
  },
  {
   "cell_type": "code",
   "execution_count": 5,
   "metadata": {},
   "outputs": [
    {
     "name": "stderr",
     "output_type": "stream",
     "text": [
      "Read 1M words\n",
      "Number of words:  22283\n",
      "Number of labels: 0\n",
      "Progress: 100.0% words/sec/thread:   53702 lr:  0.000000 avg.loss:  2.271591 ETA:   0h 0m 0s\n"
     ]
    }
   ],
   "source": [
    "model = fasttext.train_unsupervised(HorrorMovieSummaries)"
   ]
  },
  {
   "cell_type": "code",
   "execution_count": 6,
   "metadata": {},
   "outputs": [
    {
     "data": {
      "text/plain": [
       "[(0.9432440400123596, 'ghost,'),\n",
       " (0.9272719025611877, 'ghosts;'),\n",
       " (0.8721774816513062, 'ghostly'),\n",
       " (0.8704167008399963, 'ghosts'),\n",
       " (0.8700905442237854, 'ghost.'),\n",
       " (0.8285982608795166, 'ghosts,'),\n",
       " (0.8260856866836548, \"ghost's\"),\n",
       " (0.8131915330886841, 'ghostbuster'),\n",
       " (0.7696982622146606, 'ghosts.'),\n",
       " (0.7548399567604065, 'ghost-like')]"
      ]
     },
     "execution_count": 6,
     "metadata": {},
     "output_type": "execute_result"
    }
   ],
   "source": [
    "model.get_nearest_neighbors('ghost')"
   ]
  },
  {
   "cell_type": "code",
   "execution_count": 7,
   "metadata": {},
   "outputs": [],
   "source": [
    "vocabulary = model.words\n",
    "word_embeddings = np.array([model[word] for word in vocabulary])"
   ]
  },
  {
   "cell_type": "code",
   "execution_count": 8,
   "metadata": {},
   "outputs": [],
   "source": [
    "with open(HorrorMovieSummaries, ) as f:\n",
    "    content = f.readlines()\n",
    "        \n",
    "original_documents = [x.strip() for x in content] "
   ]
  },
  {
   "cell_type": "code",
   "execution_count": 9,
   "metadata": {},
   "outputs": [],
   "source": [
    "# Create a dictionary of vectors\n",
    "vector_dict = dict(zip(vocabulary, word_embeddings))\n",
    "\n",
    "def aggregate_vector_list(vlist, aggfunc):\n",
    "    if aggfunc == 'max':\n",
    "        return np.array(vlist).max(axis=0)\n",
    "    elif aggfunc == 'min':\n",
    "        return np.array(vlist).min(axis=0)\n",
    "    elif aggfunc == 'mean':\n",
    "        return np.array(vlist).mean(axis=0)\n",
    "    else:\n",
    "        return np.zeros(np.array(vlist).shape[1])\n",
    "\n",
    "possible_aggfuncs = [\"max\", \"min\", \"mean\"]\n",
    "\n",
    "aggregated_doc_vectors = {}\n",
    "\n",
    "# Aggregate vectors of documents beforehand\n",
    "for aggfunc in possible_aggfuncs:\n",
    "    aggregated_doc_vectors[aggfunc] = np.zeros((len(original_documents), word_embeddings.shape[1]))\n",
    "    for index, doc in enumerate(original_documents):\n",
    "        vlist = [vector_dict[token] for token in fasttext.tokenize(doc) if token in vector_dict]\n",
    "        if(len(vlist) < 1):\n",
    "            continue \n",
    "        else:\n",
    "            aggregated_doc_vectors[aggfunc][index] = aggregate_vector_list(vlist, aggfunc) "
   ]
  },
  {
   "cell_type": "code",
   "execution_count": 12,
   "metadata": {},
   "outputs": [],
   "source": [
    "def aggregate_query(query, aggfunc):\n",
    "    tokens = fasttext.tokenize(query)\n",
    "    if(len(tokens) == 1):\n",
    "        if(tokens[0] in vocabulary):\n",
    "            return vector_dict[tokens[0]]\n",
    "    elif(len(tokens) > 1):\n",
    "        vlist = []\n",
    "        for token in tokens:\n",
    "            if (token in vocabulary):\n",
    "                vlist.append(vector_dict[token])\n",
    "        \n",
    "        return aggregate_vector_list(vlist, aggfunc)\n",
    "    else:\n",
    "        print(\"%s is not in the vocabulary.\" % (query))\n",
    "    \n",
    "def get_most_similar_documents(query_vector, aggfunc, k = 5):\n",
    "    query_vector = query_vector.reshape(1, -1)\n",
    "    sim = cosine_similarity(query_vector, aggregated_doc_vectors[aggfunc])\n",
    "    # Rank the document vectors according to their cosine similarity with \n",
    "    indexes = np.argsort(sim, axis=-1, kind='quicksort', order=None) # This is sorted in ascending order\n",
    "    indexes = indexes[0]\n",
    "    indexes = indexes[::-1] # Convert to descending\n",
    "    return indexes\n",
    "\n",
    "def search_vec_embeddings(query, topk = 10, aggfunc = 'mean'):\n",
    "    query_vector = aggregate_query(query, aggfunc)\n",
    "    indexes = get_most_similar_documents(query_vector, aggfunc)\n",
    "    # Print the top k documents\n",
    "    indexes = indexes[0:topk]\n",
    "    IDs = []\n",
    "    for index in indexes:\n",
    "        print(original_documents[index])\n",
    "        IDs.append(original_documents[index].split()[0])\n",
    "    return IDs\n"
   ]
  },
  {
   "cell_type": "code",
   "execution_count": 13,
   "metadata": {},
   "outputs": [
    {
     "name": "stdout",
     "output_type": "stream",
     "text": [
      "26513406\tThree criminology students visit the site of the murders perpetrated by an infamous serial killer. They intend to collect proof on film for a final doctrate paper.{{cite web}}{{cite web}}\n",
      "23799559\tBased on the true story of serial murderer Gary Ridgway, the film depicts how he would approach prostitutes in bars, then take them to his homes and brutally kill them. Then he'd throw the corpses into the Green River, which is where the name \"Green River Killer\" comes from. Soon the investigating police officers are on his trackCD Universe - Green River Killer DVD Movie.\n",
      "21150086\tIn 1888, Jack the Ripper is on his killing spree. Scotland Yard Inspector O'Neill  welcomes a visit from his old friend New York City detective Sam Lowry  who agrees to assist with the investigation. Sam becomes attracted to modern woman Anne Ford  but her guardian, Dr. Tranter  doesn't approve. The police slowly close in the killer as the public becomes more alarmed. The killer's identity is revealed and the killer meets a ghastly end.\n",
      "28376038\tThe film features the character of Sexton Blake and his efforts to defeat a major crime organisation.\n",
      "21287052\tSam Dietz returns to Los Angeles from \"up North\" and agrees to consult on a serial killer case. Not wanting to be more involved changes however, when the killer targets Dietz’s latest love interest, thereby, forcing him to become actively involved in the investigation. The killer is someone he's arrested before.Doug http://www.imdb.com/title/tt0107941/plotsummary\n",
      "13296475\t Albert Fish tells the horrific true story of a sadomasochistic cannibal, child molester, and serial killer, who lured children to their deaths in Depression-era New York City. Elderly but still deadly, Fish was inspired by biblical tales as he took the stories of pain, punishment, atonement, and suffering literally as he preyed on victims to torture and sacrifice. From John Borowski, award-winning director of H. H. Holmes: America's First Serial Killer, comes the first docudrama and definitive chronicle of the life and times of cannibal Albert Fish. Adding insight to the account are interviews with artist and Odditorium owner Joe Coleman and renowned true-crime author Katherine Ramsland, Ph.D.\n",
      "11699160\tThe film centers around a serial killer known as \"The Card Player\", who is kidnapping young women in Rome. Using a webcam set-up, the killer challenges the police by forcing them to play hands of Internet poker. If the police lose, the kidnapped victim is tortured and murdered on-screen. When a British tourist is among the girls murdered, policeman John Brennan  is assigned the case and quickly teams up with Italian detective Anna Mari . The duo have their work cut out for them when the Police Chief's daughter  becomes the killer's latest kidnapping victim.\n",
      "21182881\tThis American film deals with the activities of a wealthy immigrant serial killer; a German photographer, who leads a double life: by day he shoots erotic photos. By night he rapes, tortures and murders prostitutes.FILMTIPPS.at - Murder-Set-Pieces\n",
      "24665513\tThe story tells of a bloody masked killer who stalks victims in an isolated country pub.Schooner of Blood Ready to Drink!\n",
      "23565442\tIn a brief prologue set in 1947, Elizabeth Short  is murdered by an unseen assailant. In present-day Los Angeles, a \"copycat\" serial killer is dumping partially mutilated female bodies in an emulation of Elizabeth Short's murderer. Women answering an ad for a movie audition are systematically killed by Satan worshippers. One of the cops becomes obsessed with the story of Elizabeth Short, looks up the original 40s murder online, and dreams about it. Eventually, he comes face-to-face with the killers.Ulli Lommel's Black Dahlia amazon.com synopsis The film showcases four violent death sequences. The actresses whose characters are brutally killed are, in order of appearance, Lorielle New, Laura Leigh Hofrichter , Crystal Nelson, and Jana Laurin.\n"
     ]
    },
    {
     "data": {
      "text/plain": [
       "['26513406',\n",
       " '23799559',\n",
       " '21150086',\n",
       " '28376038',\n",
       " '21287052',\n",
       " '13296475',\n",
       " '11699160',\n",
       " '21182881',\n",
       " '24665513',\n",
       " '23565442']"
      ]
     },
     "execution_count": 13,
     "metadata": {},
     "output_type": "execute_result"
    }
   ],
   "source": [
    "search_vec_embeddings('Killer', aggfunc = 'mean')"
   ]
  }
 ],
 "metadata": {
  "kernelspec": {
   "display_name": "dis",
   "language": "python",
   "name": "python3"
  },
  "language_info": {
   "codemirror_mode": {
    "name": "ipython",
    "version": 3
   },
   "file_extension": ".py",
   "mimetype": "text/x-python",
   "name": "python",
   "nbconvert_exporter": "python",
   "pygments_lexer": "ipython3",
   "version": "3.11.8"
  }
 },
 "nbformat": 4,
 "nbformat_minor": 2
}
